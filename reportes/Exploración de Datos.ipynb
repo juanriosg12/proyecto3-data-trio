{
 "cells": [
  {
   "cell_type": "code",
   "execution_count": 1,
   "metadata": {},
   "outputs": [],
   "source": [
    "import pandas as pd\n",
    "import numpy as np\n",
    "import seaborn as sns\n",
    "import matplotlib.pyplot as plt\n",
    "%matplotlib inline"
   ]
  },
  {
   "cell_type": "code",
   "execution_count": 2,
   "metadata": {},
   "outputs": [],
   "source": [
    "data = pd.read_csv('C:/Users/USER/OneDrive - Universidad de los andes/Analitica comp/proyecto3-data-trio/reportes/ingeniera_de_datos/clean_saber11.csv', sep=',')\n"
   ]
  },
  {
   "cell_type": "code",
   "execution_count": 3,
   "metadata": {},
   "outputs": [
    {
     "data": {
      "text/plain": [
       "(83297, 28)"
      ]
     },
     "execution_count": 3,
     "metadata": {},
     "output_type": "execute_result"
    }
   ],
   "source": [
    "data.shape"
   ]
  },
  {
   "cell_type": "code",
   "execution_count": 4,
   "metadata": {},
   "outputs": [
    {
     "data": {
      "text/plain": [
       "Index(['Unnamed: 0', 'periodo', 'estu_tipodocumento', 'cole_area_ubicacion',\n",
       "       'cole_bilingue', 'cole_caracter', 'cole_genero', 'cole_jornada',\n",
       "       'cole_mcpio_ubicacion', 'cole_naturaleza', 'cole_sede_principal',\n",
       "       'estu_genero', 'fami_cuartoshogar', 'fami_educacionmadre',\n",
       "       'fami_educacionpadre', 'fami_estratovivienda', 'fami_personashogar',\n",
       "       'fami_tieneautomovil', 'fami_tienecomputador', 'fami_tieneinternet',\n",
       "       'fami_tienelavadora', 'desemp_ingles', 'punt_ingles',\n",
       "       'punt_matematicas', 'punt_sociales_ciudadanas', 'punt_c_naturales',\n",
       "       'punt_lectura_critica', 'punt_global'],\n",
       "      dtype='object')"
      ]
     },
     "execution_count": 4,
     "metadata": {},
     "output_type": "execute_result"
    }
   ],
   "source": [
    "data.columns"
   ]
  },
  {
   "cell_type": "code",
   "execution_count": 5,
   "metadata": {},
   "outputs": [
    {
     "data": {
      "text/plain": [
       "Unnamed: 0                    int64\n",
       "periodo                       int64\n",
       "estu_tipodocumento           object\n",
       "cole_area_ubicacion          object\n",
       "cole_bilingue                object\n",
       "cole_caracter                object\n",
       "cole_genero                  object\n",
       "cole_jornada                 object\n",
       "cole_mcpio_ubicacion         object\n",
       "cole_naturaleza              object\n",
       "cole_sede_principal          object\n",
       "estu_genero                  object\n",
       "fami_cuartoshogar            object\n",
       "fami_educacionmadre          object\n",
       "fami_educacionpadre          object\n",
       "fami_estratovivienda         object\n",
       "fami_personashogar           object\n",
       "fami_tieneautomovil          object\n",
       "fami_tienecomputador         object\n",
       "fami_tieneinternet           object\n",
       "fami_tienelavadora           object\n",
       "desemp_ingles                object\n",
       "punt_ingles                 float64\n",
       "punt_matematicas            float64\n",
       "punt_sociales_ciudadanas      int64\n",
       "punt_c_naturales              int64\n",
       "punt_lectura_critica          int64\n",
       "punt_global                   int64\n",
       "dtype: object"
      ]
     },
     "execution_count": 5,
     "metadata": {},
     "output_type": "execute_result"
    }
   ],
   "source": [
    "data.dtypes"
   ]
  },
  {
   "cell_type": "code",
   "execution_count": 6,
   "metadata": {},
   "outputs": [],
   "source": [
    "data = data.drop(columns='Unnamed: 0')"
   ]
  },
  {
   "cell_type": "markdown",
   "metadata": {},
   "source": [
    "## Estadisticas Descriptivas Variables Numéricas"
   ]
  },
  {
   "cell_type": "code",
   "execution_count": 7,
   "metadata": {},
   "outputs": [
    {
     "data": {
      "text/html": [
       "<div>\n",
       "<style scoped>\n",
       "    .dataframe tbody tr th:only-of-type {\n",
       "        vertical-align: middle;\n",
       "    }\n",
       "\n",
       "    .dataframe tbody tr th {\n",
       "        vertical-align: top;\n",
       "    }\n",
       "\n",
       "    .dataframe thead th {\n",
       "        text-align: right;\n",
       "    }\n",
       "</style>\n",
       "<table border=\"1\" class=\"dataframe\">\n",
       "  <thead>\n",
       "    <tr style=\"text-align: right;\">\n",
       "      <th></th>\n",
       "      <th>periodo</th>\n",
       "      <th>punt_ingles</th>\n",
       "      <th>punt_matematicas</th>\n",
       "      <th>punt_sociales_ciudadanas</th>\n",
       "      <th>punt_c_naturales</th>\n",
       "      <th>punt_lectura_critica</th>\n",
       "      <th>punt_global</th>\n",
       "    </tr>\n",
       "  </thead>\n",
       "  <tbody>\n",
       "    <tr>\n",
       "      <th>count</th>\n",
       "      <td>83297.000000</td>\n",
       "      <td>83297.000000</td>\n",
       "      <td>83297.000000</td>\n",
       "      <td>83297.000000</td>\n",
       "      <td>83297.000000</td>\n",
       "      <td>83297.000000</td>\n",
       "      <td>83297.000000</td>\n",
       "    </tr>\n",
       "    <tr>\n",
       "      <th>mean</th>\n",
       "      <td>20174.086150</td>\n",
       "      <td>49.383878</td>\n",
       "      <td>50.871424</td>\n",
       "      <td>49.210884</td>\n",
       "      <td>50.803991</td>\n",
       "      <td>51.669388</td>\n",
       "      <td>252.712114</td>\n",
       "    </tr>\n",
       "    <tr>\n",
       "      <th>std</th>\n",
       "      <td>27.195352</td>\n",
       "      <td>10.692126</td>\n",
       "      <td>11.549282</td>\n",
       "      <td>11.109798</td>\n",
       "      <td>10.014895</td>\n",
       "      <td>9.853306</td>\n",
       "      <td>46.994209</td>\n",
       "    </tr>\n",
       "    <tr>\n",
       "      <th>min</th>\n",
       "      <td>20142.000000</td>\n",
       "      <td>0.000000</td>\n",
       "      <td>0.000000</td>\n",
       "      <td>0.000000</td>\n",
       "      <td>0.000000</td>\n",
       "      <td>0.000000</td>\n",
       "      <td>21.000000</td>\n",
       "    </tr>\n",
       "    <tr>\n",
       "      <th>25%</th>\n",
       "      <td>20152.000000</td>\n",
       "      <td>42.000000</td>\n",
       "      <td>43.000000</td>\n",
       "      <td>41.000000</td>\n",
       "      <td>44.000000</td>\n",
       "      <td>45.000000</td>\n",
       "      <td>218.000000</td>\n",
       "    </tr>\n",
       "    <tr>\n",
       "      <th>50%</th>\n",
       "      <td>20172.000000</td>\n",
       "      <td>48.000000</td>\n",
       "      <td>50.000000</td>\n",
       "      <td>49.000000</td>\n",
       "      <td>50.000000</td>\n",
       "      <td>51.000000</td>\n",
       "      <td>249.000000</td>\n",
       "    </tr>\n",
       "    <tr>\n",
       "      <th>75%</th>\n",
       "      <td>20194.000000</td>\n",
       "      <td>55.000000</td>\n",
       "      <td>58.000000</td>\n",
       "      <td>57.000000</td>\n",
       "      <td>57.000000</td>\n",
       "      <td>58.000000</td>\n",
       "      <td>283.000000</td>\n",
       "    </tr>\n",
       "    <tr>\n",
       "      <th>max</th>\n",
       "      <td>20224.000000</td>\n",
       "      <td>100.000000</td>\n",
       "      <td>100.000000</td>\n",
       "      <td>100.000000</td>\n",
       "      <td>100.000000</td>\n",
       "      <td>100.000000</td>\n",
       "      <td>469.000000</td>\n",
       "    </tr>\n",
       "  </tbody>\n",
       "</table>\n",
       "</div>"
      ],
      "text/plain": [
       "            periodo   punt_ingles  punt_matematicas  punt_sociales_ciudadanas  \\\n",
       "count  83297.000000  83297.000000      83297.000000              83297.000000   \n",
       "mean   20174.086150     49.383878         50.871424                 49.210884   \n",
       "std       27.195352     10.692126         11.549282                 11.109798   \n",
       "min    20142.000000      0.000000          0.000000                  0.000000   \n",
       "25%    20152.000000     42.000000         43.000000                 41.000000   \n",
       "50%    20172.000000     48.000000         50.000000                 49.000000   \n",
       "75%    20194.000000     55.000000         58.000000                 57.000000   \n",
       "max    20224.000000    100.000000        100.000000                100.000000   \n",
       "\n",
       "       punt_c_naturales  punt_lectura_critica   punt_global  \n",
       "count      83297.000000          83297.000000  83297.000000  \n",
       "mean          50.803991             51.669388    252.712114  \n",
       "std           10.014895              9.853306     46.994209  \n",
       "min            0.000000              0.000000     21.000000  \n",
       "25%           44.000000             45.000000    218.000000  \n",
       "50%           50.000000             51.000000    249.000000  \n",
       "75%           57.000000             58.000000    283.000000  \n",
       "max          100.000000            100.000000    469.000000  "
      ]
     },
     "execution_count": 7,
     "metadata": {},
     "output_type": "execute_result"
    }
   ],
   "source": [
    "data.describe()"
   ]
  },
  {
   "cell_type": "code",
   "execution_count": 8,
   "metadata": {},
   "outputs": [
    {
     "data": {
      "text/html": [
       "<div>\n",
       "<style scoped>\n",
       "    .dataframe tbody tr th:only-of-type {\n",
       "        vertical-align: middle;\n",
       "    }\n",
       "\n",
       "    .dataframe tbody tr th {\n",
       "        vertical-align: top;\n",
       "    }\n",
       "\n",
       "    .dataframe thead th {\n",
       "        text-align: right;\n",
       "    }\n",
       "</style>\n",
       "<table border=\"1\" class=\"dataframe\">\n",
       "  <thead>\n",
       "    <tr style=\"text-align: right;\">\n",
       "      <th></th>\n",
       "      <th>periodo</th>\n",
       "      <th>estu_tipodocumento</th>\n",
       "      <th>cole_area_ubicacion</th>\n",
       "      <th>cole_bilingue</th>\n",
       "      <th>cole_caracter</th>\n",
       "      <th>cole_genero</th>\n",
       "      <th>cole_jornada</th>\n",
       "      <th>cole_mcpio_ubicacion</th>\n",
       "      <th>cole_naturaleza</th>\n",
       "      <th>cole_sede_principal</th>\n",
       "      <th>...</th>\n",
       "      <th>fami_tienecomputador</th>\n",
       "      <th>fami_tieneinternet</th>\n",
       "      <th>fami_tienelavadora</th>\n",
       "      <th>desemp_ingles</th>\n",
       "      <th>punt_ingles</th>\n",
       "      <th>punt_matematicas</th>\n",
       "      <th>punt_sociales_ciudadanas</th>\n",
       "      <th>punt_c_naturales</th>\n",
       "      <th>punt_lectura_critica</th>\n",
       "      <th>punt_global</th>\n",
       "    </tr>\n",
       "  </thead>\n",
       "  <tbody>\n",
       "    <tr>\n",
       "      <th>0</th>\n",
       "      <td>20224</td>\n",
       "      <td>TI</td>\n",
       "      <td>RURAL</td>\n",
       "      <td>N</td>\n",
       "      <td>ACADÉMICO</td>\n",
       "      <td>MIXTO</td>\n",
       "      <td>MAÑANA</td>\n",
       "      <td>GARZÓN</td>\n",
       "      <td>OFICIAL</td>\n",
       "      <td>N</td>\n",
       "      <td>...</td>\n",
       "      <td>Si</td>\n",
       "      <td>Si</td>\n",
       "      <td>Si</td>\n",
       "      <td>A-</td>\n",
       "      <td>42.0</td>\n",
       "      <td>64.0</td>\n",
       "      <td>47</td>\n",
       "      <td>41</td>\n",
       "      <td>49</td>\n",
       "      <td>248</td>\n",
       "    </tr>\n",
       "    <tr>\n",
       "      <th>1</th>\n",
       "      <td>20224</td>\n",
       "      <td>TI</td>\n",
       "      <td>RURAL</td>\n",
       "      <td>N</td>\n",
       "      <td>ACADÉMICO</td>\n",
       "      <td>MIXTO</td>\n",
       "      <td>COMPLETA</td>\n",
       "      <td>PALERMO</td>\n",
       "      <td>OFICIAL</td>\n",
       "      <td>N</td>\n",
       "      <td>...</td>\n",
       "      <td>No</td>\n",
       "      <td>Si</td>\n",
       "      <td>No</td>\n",
       "      <td>A-</td>\n",
       "      <td>31.0</td>\n",
       "      <td>33.0</td>\n",
       "      <td>35</td>\n",
       "      <td>31</td>\n",
       "      <td>36</td>\n",
       "      <td>168</td>\n",
       "    </tr>\n",
       "    <tr>\n",
       "      <th>2</th>\n",
       "      <td>20224</td>\n",
       "      <td>CC</td>\n",
       "      <td>URBANO</td>\n",
       "      <td>N</td>\n",
       "      <td>ACADÉMICO</td>\n",
       "      <td>MIXTO</td>\n",
       "      <td>SABATINA</td>\n",
       "      <td>PITALITO</td>\n",
       "      <td>NO OFICIAL</td>\n",
       "      <td>S</td>\n",
       "      <td>...</td>\n",
       "      <td>No</td>\n",
       "      <td>No</td>\n",
       "      <td>Si</td>\n",
       "      <td>A-</td>\n",
       "      <td>43.0</td>\n",
       "      <td>58.0</td>\n",
       "      <td>59</td>\n",
       "      <td>56</td>\n",
       "      <td>64</td>\n",
       "      <td>290</td>\n",
       "    </tr>\n",
       "    <tr>\n",
       "      <th>3</th>\n",
       "      <td>20224</td>\n",
       "      <td>TI</td>\n",
       "      <td>URBANO</td>\n",
       "      <td>N</td>\n",
       "      <td>ACADÉMICO</td>\n",
       "      <td>MIXTO</td>\n",
       "      <td>UNICA</td>\n",
       "      <td>NEIVA</td>\n",
       "      <td>OFICIAL</td>\n",
       "      <td>S</td>\n",
       "      <td>...</td>\n",
       "      <td>unknown</td>\n",
       "      <td>Si</td>\n",
       "      <td>unknown</td>\n",
       "      <td>B1</td>\n",
       "      <td>70.0</td>\n",
       "      <td>59.0</td>\n",
       "      <td>66</td>\n",
       "      <td>57</td>\n",
       "      <td>67</td>\n",
       "      <td>314</td>\n",
       "    </tr>\n",
       "    <tr>\n",
       "      <th>4</th>\n",
       "      <td>20224</td>\n",
       "      <td>CC</td>\n",
       "      <td>URBANO</td>\n",
       "      <td>N</td>\n",
       "      <td>TÉCNICO/ACADÉMICO</td>\n",
       "      <td>MIXTO</td>\n",
       "      <td>UNICA</td>\n",
       "      <td>GARZÓN</td>\n",
       "      <td>OFICIAL</td>\n",
       "      <td>S</td>\n",
       "      <td>...</td>\n",
       "      <td>No</td>\n",
       "      <td>No</td>\n",
       "      <td>Si</td>\n",
       "      <td>A-</td>\n",
       "      <td>42.0</td>\n",
       "      <td>36.0</td>\n",
       "      <td>53</td>\n",
       "      <td>45</td>\n",
       "      <td>61</td>\n",
       "      <td>241</td>\n",
       "    </tr>\n",
       "  </tbody>\n",
       "</table>\n",
       "<p>5 rows × 27 columns</p>\n",
       "</div>"
      ],
      "text/plain": [
       "   periodo estu_tipodocumento cole_area_ubicacion cole_bilingue  \\\n",
       "0    20224                 TI               RURAL             N   \n",
       "1    20224                 TI               RURAL             N   \n",
       "2    20224                 CC              URBANO             N   \n",
       "3    20224                 TI              URBANO             N   \n",
       "4    20224                 CC              URBANO             N   \n",
       "\n",
       "       cole_caracter cole_genero cole_jornada cole_mcpio_ubicacion  \\\n",
       "0          ACADÉMICO       MIXTO       MAÑANA               GARZÓN   \n",
       "1          ACADÉMICO       MIXTO     COMPLETA              PALERMO   \n",
       "2          ACADÉMICO       MIXTO     SABATINA             PITALITO   \n",
       "3          ACADÉMICO       MIXTO        UNICA                NEIVA   \n",
       "4  TÉCNICO/ACADÉMICO       MIXTO        UNICA               GARZÓN   \n",
       "\n",
       "  cole_naturaleza cole_sede_principal  ... fami_tienecomputador  \\\n",
       "0         OFICIAL                   N  ...                   Si   \n",
       "1         OFICIAL                   N  ...                   No   \n",
       "2      NO OFICIAL                   S  ...                   No   \n",
       "3         OFICIAL                   S  ...              unknown   \n",
       "4         OFICIAL                   S  ...                   No   \n",
       "\n",
       "  fami_tieneinternet fami_tienelavadora desemp_ingles punt_ingles  \\\n",
       "0                 Si                 Si            A-        42.0   \n",
       "1                 Si                 No            A-        31.0   \n",
       "2                 No                 Si            A-        43.0   \n",
       "3                 Si            unknown            B1        70.0   \n",
       "4                 No                 Si            A-        42.0   \n",
       "\n",
       "  punt_matematicas punt_sociales_ciudadanas punt_c_naturales  \\\n",
       "0             64.0                       47               41   \n",
       "1             33.0                       35               31   \n",
       "2             58.0                       59               56   \n",
       "3             59.0                       66               57   \n",
       "4             36.0                       53               45   \n",
       "\n",
       "  punt_lectura_critica punt_global  \n",
       "0                   49         248  \n",
       "1                   36         168  \n",
       "2                   64         290  \n",
       "3                   67         314  \n",
       "4                   61         241  \n",
       "\n",
       "[5 rows x 27 columns]"
      ]
     },
     "execution_count": 8,
     "metadata": {},
     "output_type": "execute_result"
    }
   ],
   "source": [
    "data.head()"
   ]
  },
  {
   "cell_type": "markdown",
   "metadata": {},
   "source": [
    "# Se crea nuevo dataframe"
   ]
  },
  {
   "cell_type": "code",
   "execution_count": 9,
   "metadata": {},
   "outputs": [],
   "source": [
    "data1= data"
   ]
  },
  {
   "cell_type": "code",
   "execution_count": 10,
   "metadata": {},
   "outputs": [
    {
     "data": {
      "text/plain": [
       "(83297, 27)"
      ]
     },
     "execution_count": 10,
     "metadata": {},
     "output_type": "execute_result"
    }
   ],
   "source": [
    "data1.shape"
   ]
  },
  {
   "cell_type": "markdown",
   "metadata": {},
   "source": [
    "Para la columna Fami_cuartoshogar  se  filtraron  las filas con el valor de \"Seis o más\" dado que ya está contemplado en las opciones de que haya seis, siente, ocho, nueve y 10 o más "
   ]
  },
  {
   "cell_type": "code",
   "execution_count": 11,
   "metadata": {},
   "outputs": [],
   "source": [
    "data1 = data1[data1['fami_cuartoshogar'] != 'Seis o mas']"
   ]
  },
  {
   "cell_type": "markdown",
   "metadata": {},
   "source": [
    "Con el periodo y la fecha de nacimiento del estudiante se creó la nueva columna \"Edad\" que representa la edad que tenía el estudiante en el periodo que realizo la prueba saber "
   ]
  },
  {
   "cell_type": "code",
   "execution_count": 12,
   "metadata": {},
   "outputs": [
    {
     "ename": "KeyError",
     "evalue": "'estu_fechanacimiento'",
     "output_type": "error",
     "traceback": [
      "\u001b[1;31m---------------------------------------------------------------------------\u001b[0m",
      "\u001b[1;31mKeyError\u001b[0m                                  Traceback (most recent call last)",
      "File \u001b[1;32mc:\\Users\\USER\\AppData\\Local\\Programs\\Python\\Python311\\Lib\\site-packages\\pandas\\core\\indexes\\base.py:3805\u001b[0m, in \u001b[0;36mIndex.get_loc\u001b[1;34m(self, key)\u001b[0m\n\u001b[0;32m   3804\u001b[0m \u001b[38;5;28;01mtry\u001b[39;00m:\n\u001b[1;32m-> 3805\u001b[0m     \u001b[38;5;28;01mreturn\u001b[39;00m \u001b[38;5;28;43mself\u001b[39;49m\u001b[38;5;241;43m.\u001b[39;49m\u001b[43m_engine\u001b[49m\u001b[38;5;241;43m.\u001b[39;49m\u001b[43mget_loc\u001b[49m\u001b[43m(\u001b[49m\u001b[43mcasted_key\u001b[49m\u001b[43m)\u001b[49m\n\u001b[0;32m   3806\u001b[0m \u001b[38;5;28;01mexcept\u001b[39;00m \u001b[38;5;167;01mKeyError\u001b[39;00m \u001b[38;5;28;01mas\u001b[39;00m err:\n",
      "File \u001b[1;32mindex.pyx:167\u001b[0m, in \u001b[0;36mpandas._libs.index.IndexEngine.get_loc\u001b[1;34m()\u001b[0m\n",
      "File \u001b[1;32mindex.pyx:196\u001b[0m, in \u001b[0;36mpandas._libs.index.IndexEngine.get_loc\u001b[1;34m()\u001b[0m\n",
      "File \u001b[1;32mpandas\\\\_libs\\\\hashtable_class_helper.pxi:7081\u001b[0m, in \u001b[0;36mpandas._libs.hashtable.PyObjectHashTable.get_item\u001b[1;34m()\u001b[0m\n",
      "File \u001b[1;32mpandas\\\\_libs\\\\hashtable_class_helper.pxi:7089\u001b[0m, in \u001b[0;36mpandas._libs.hashtable.PyObjectHashTable.get_item\u001b[1;34m()\u001b[0m\n",
      "\u001b[1;31mKeyError\u001b[0m: 'estu_fechanacimiento'",
      "\nThe above exception was the direct cause of the following exception:\n",
      "\u001b[1;31mKeyError\u001b[0m                                  Traceback (most recent call last)",
      "Cell \u001b[1;32mIn[12], line 3\u001b[0m\n\u001b[0;32m      1\u001b[0m \u001b[38;5;66;03m# Convert columns to strings first\u001b[39;00m\n\u001b[0;32m      2\u001b[0m data1[\u001b[38;5;124m'\u001b[39m\u001b[38;5;124mperiodo\u001b[39m\u001b[38;5;124m'\u001b[39m] \u001b[38;5;241m=\u001b[39m data1[\u001b[38;5;124m'\u001b[39m\u001b[38;5;124mperiodo\u001b[39m\u001b[38;5;124m'\u001b[39m]\u001b[38;5;241m.\u001b[39mastype(\u001b[38;5;28mstr\u001b[39m)\n\u001b[1;32m----> 3\u001b[0m data1[\u001b[38;5;124m'\u001b[39m\u001b[38;5;124mestu_fechanacimiento\u001b[39m\u001b[38;5;124m'\u001b[39m] \u001b[38;5;241m=\u001b[39m \u001b[43mdata1\u001b[49m\u001b[43m[\u001b[49m\u001b[38;5;124;43m'\u001b[39;49m\u001b[38;5;124;43mestu_fechanacimiento\u001b[39;49m\u001b[38;5;124;43m'\u001b[39;49m\u001b[43m]\u001b[49m\u001b[38;5;241m.\u001b[39mastype(\u001b[38;5;28mstr\u001b[39m)\n\u001b[0;32m      5\u001b[0m \u001b[38;5;66;03m# Extract first 4 characters of 'periodo' and last 4 characters of 'estu_fechanacimiento'\u001b[39;00m\n\u001b[0;32m      6\u001b[0m data1[\u001b[38;5;124m'\u001b[39m\u001b[38;5;124mperiodo_year\u001b[39m\u001b[38;5;124m'\u001b[39m] \u001b[38;5;241m=\u001b[39m data1[\u001b[38;5;124m'\u001b[39m\u001b[38;5;124mperiodo\u001b[39m\u001b[38;5;124m'\u001b[39m]\u001b[38;5;241m.\u001b[39mstr[:\u001b[38;5;241m4\u001b[39m]\u001b[38;5;241m.\u001b[39mastype(\u001b[38;5;28mint\u001b[39m)\n",
      "File \u001b[1;32mc:\\Users\\USER\\AppData\\Local\\Programs\\Python\\Python311\\Lib\\site-packages\\pandas\\core\\frame.py:4102\u001b[0m, in \u001b[0;36mDataFrame.__getitem__\u001b[1;34m(self, key)\u001b[0m\n\u001b[0;32m   4100\u001b[0m \u001b[38;5;28;01mif\u001b[39;00m \u001b[38;5;28mself\u001b[39m\u001b[38;5;241m.\u001b[39mcolumns\u001b[38;5;241m.\u001b[39mnlevels \u001b[38;5;241m>\u001b[39m \u001b[38;5;241m1\u001b[39m:\n\u001b[0;32m   4101\u001b[0m     \u001b[38;5;28;01mreturn\u001b[39;00m \u001b[38;5;28mself\u001b[39m\u001b[38;5;241m.\u001b[39m_getitem_multilevel(key)\n\u001b[1;32m-> 4102\u001b[0m indexer \u001b[38;5;241m=\u001b[39m \u001b[38;5;28;43mself\u001b[39;49m\u001b[38;5;241;43m.\u001b[39;49m\u001b[43mcolumns\u001b[49m\u001b[38;5;241;43m.\u001b[39;49m\u001b[43mget_loc\u001b[49m\u001b[43m(\u001b[49m\u001b[43mkey\u001b[49m\u001b[43m)\u001b[49m\n\u001b[0;32m   4103\u001b[0m \u001b[38;5;28;01mif\u001b[39;00m is_integer(indexer):\n\u001b[0;32m   4104\u001b[0m     indexer \u001b[38;5;241m=\u001b[39m [indexer]\n",
      "File \u001b[1;32mc:\\Users\\USER\\AppData\\Local\\Programs\\Python\\Python311\\Lib\\site-packages\\pandas\\core\\indexes\\base.py:3812\u001b[0m, in \u001b[0;36mIndex.get_loc\u001b[1;34m(self, key)\u001b[0m\n\u001b[0;32m   3807\u001b[0m     \u001b[38;5;28;01mif\u001b[39;00m \u001b[38;5;28misinstance\u001b[39m(casted_key, \u001b[38;5;28mslice\u001b[39m) \u001b[38;5;129;01mor\u001b[39;00m (\n\u001b[0;32m   3808\u001b[0m         \u001b[38;5;28misinstance\u001b[39m(casted_key, abc\u001b[38;5;241m.\u001b[39mIterable)\n\u001b[0;32m   3809\u001b[0m         \u001b[38;5;129;01mand\u001b[39;00m \u001b[38;5;28many\u001b[39m(\u001b[38;5;28misinstance\u001b[39m(x, \u001b[38;5;28mslice\u001b[39m) \u001b[38;5;28;01mfor\u001b[39;00m x \u001b[38;5;129;01min\u001b[39;00m casted_key)\n\u001b[0;32m   3810\u001b[0m     ):\n\u001b[0;32m   3811\u001b[0m         \u001b[38;5;28;01mraise\u001b[39;00m InvalidIndexError(key)\n\u001b[1;32m-> 3812\u001b[0m     \u001b[38;5;28;01mraise\u001b[39;00m \u001b[38;5;167;01mKeyError\u001b[39;00m(key) \u001b[38;5;28;01mfrom\u001b[39;00m \u001b[38;5;21;01merr\u001b[39;00m\n\u001b[0;32m   3813\u001b[0m \u001b[38;5;28;01mexcept\u001b[39;00m \u001b[38;5;167;01mTypeError\u001b[39;00m:\n\u001b[0;32m   3814\u001b[0m     \u001b[38;5;66;03m# If we have a listlike key, _check_indexing_error will raise\u001b[39;00m\n\u001b[0;32m   3815\u001b[0m     \u001b[38;5;66;03m#  InvalidIndexError. Otherwise we fall through and re-raise\u001b[39;00m\n\u001b[0;32m   3816\u001b[0m     \u001b[38;5;66;03m#  the TypeError.\u001b[39;00m\n\u001b[0;32m   3817\u001b[0m     \u001b[38;5;28mself\u001b[39m\u001b[38;5;241m.\u001b[39m_check_indexing_error(key)\n",
      "\u001b[1;31mKeyError\u001b[0m: 'estu_fechanacimiento'"
     ]
    }
   ],
   "source": [
    "# Convert columns to strings first\n",
    "data1['periodo'] = data1['periodo'].astype(str)\n",
    "data1['estu_fechanacimiento'] = data1['estu_fechanacimiento'].astype(str)\n",
    "\n",
    "# Extract first 4 characters of 'periodo' and last 4 characters of 'estu_fechanacimiento'\n",
    "data1['periodo_year'] = data1['periodo'].str[:4].astype(int)\n",
    "data1['birth_year'] = data1['estu_fechanacimiento'].str[-4:].astype(int)\n",
    "\n",
    "# Create new column with the subtraction\n",
    "data1['Edad'] = data1['periodo_year'] - data1['birth_year']"
   ]
  },
  {
   "cell_type": "code",
   "execution_count": null,
   "metadata": {},
   "outputs": [],
   "source": [
    "data1 = data1.drop(columns='estu_fechanacimiento')"
   ]
  },
  {
   "cell_type": "code",
   "execution_count": null,
   "metadata": {},
   "outputs": [],
   "source": [
    "data1 = data1.drop(columns='estu_tipodocumento')"
   ]
  },
  {
   "cell_type": "code",
   "execution_count": null,
   "metadata": {},
   "outputs": [],
   "source": [
    "data1 = data1.drop(columns='birth_year')"
   ]
  },
  {
   "cell_type": "markdown",
   "metadata": {},
   "source": [
    "## Ajustes"
   ]
  },
  {
   "cell_type": "markdown",
   "metadata": {},
   "source": [
    "Se elimina la columna cole_sede_principal y desemp_inglés"
   ]
  },
  {
   "cell_type": "code",
   "execution_count": null,
   "metadata": {},
   "outputs": [],
   "source": [
    "data1 = data1.drop(columns='cole_sede_principal')"
   ]
  },
  {
   "cell_type": "code",
   "execution_count": null,
   "metadata": {},
   "outputs": [],
   "source": [
    "data1 = data1.drop(columns='desemp_ingles')"
   ]
  },
  {
   "cell_type": "markdown",
   "metadata": {},
   "source": [
    "## Conversión  de Variables categóricas  a numéricas"
   ]
  },
  {
   "cell_type": "markdown",
   "metadata": {},
   "source": [
    "Las variables fami_tieneinternet, fami_tienelavadora, fami_tieneautomovil, fami_tienecomputador,fami_estratovivienda, fami_cuartoshogar y cole_area_ubicacion son convertidas a númericas"
   ]
  },
  {
   "cell_type": "code",
   "execution_count": null,
   "metadata": {},
   "outputs": [],
   "source": [
    "tiene = {'No': 0,'Si': 1,'unknown': 2}\n",
    "data1[\"fami_tieneinternet\"] = data1[\"fami_tieneinternet\"].map(tiene)\n",
    "data1[\"fami_tienelavadora\"] = data1[\"fami_tienelavadora\"].map(tiene)\n",
    "data1['fami_tieneautomovil'] = data1['fami_tieneautomovil'].map(tiene)\n",
    "data1['fami_tienecomputador'] = data1['fami_tienecomputador'].map(tiene)"
   ]
  },
  {
   "cell_type": "code",
   "execution_count": null,
   "metadata": {},
   "outputs": [],
   "source": [
    "estrato = {'Estrato 1': 1,'Estrato 2': 2,'Estrato 3': 3,'Estrato 4': 4,'Estrato 5': 5,'Estrato 6': 6,'Sin Estrato': 0 }\n",
    "data1[\"fami_estratovivienda\"] = data1[\"fami_estratovivienda\"].map(estrato)"
   ]
  },
  {
   "cell_type": "code",
   "execution_count": null,
   "metadata": {},
   "outputs": [],
   "source": [
    "miembros = { 'unknown': 0, 'Uno': 1 , \"Dos\": 2, 'Tres': 3, 'Cuatro': 4, 'Cinco': 5, 'Seis': 6, 'Siete': 7, 'Ocho': 8, 'Nueve': 9, 'Diez o más': 10}\n",
    "data1[\"fami_cuartoshogar\"] = data1[\"fami_cuartoshogar\"].map(miembros)"
   ]
  },
  {
   "cell_type": "code",
   "execution_count": null,
   "metadata": {},
   "outputs": [],
   "source": [
    "zona = {'RURAL': 0,'URBANO': 1}\n",
    "data1[\"cole_area_ubicacion\"] = data1[\"cole_area_ubicacion\"].map(zona)\n"
   ]
  },
  {
   "cell_type": "code",
   "execution_count": null,
   "metadata": {},
   "outputs": [],
   "source": [
    "data1.head()"
   ]
  },
  {
   "cell_type": "code",
   "execution_count": null,
   "metadata": {},
   "outputs": [],
   "source": [
    "target=\"punt_global\"\n",
    "x_cols= [x for x in data1.columns  if x != target ]\n"
   ]
  },
  {
   "cell_type": "code",
   "execution_count": null,
   "metadata": {},
   "outputs": [],
   "source": [
    "#data=data[x_cols+[target]]"
   ]
  },
  {
   "cell_type": "markdown",
   "metadata": {},
   "source": [
    " Se verifica que no haya habido errores en el mapeo"
   ]
  },
  {
   "cell_type": "code",
   "execution_count": null,
   "metadata": {},
   "outputs": [],
   "source": [
    "data1.isna().sum()"
   ]
  },
  {
   "cell_type": "code",
   "execution_count": null,
   "metadata": {},
   "outputs": [],
   "source": [
    "# data1.to_csv(\"saber11reducida.csv\")"
   ]
  },
  {
   "cell_type": "markdown",
   "metadata": {},
   "source": [
    "## Exploración"
   ]
  },
  {
   "cell_type": "code",
   "execution_count": null,
   "metadata": {},
   "outputs": [],
   "source": [
    "#sns.pairplot(data1,)"
   ]
  },
  {
   "cell_type": "code",
   "execution_count": null,
   "metadata": {},
   "outputs": [],
   "source": [
    "import matplotlib.pyplot as plt\n",
    "import seaborn as sns\n",
    "\n",
    "# Select only int64 columns, excluding punt_global\n",
    "int64_columns = [col for col in data1.select_dtypes(include=['int64']).columns if col != 'punt_global']\n",
    "\n",
    "# Calculate correlation matrix for selected columns\n",
    "corr = data1[int64_columns].corr()\n",
    "\n",
    "# Create heatmap\n",
    "plt.figure(figsize=(10, 10))\n",
    "sns.heatmap(corr, cmap=\"Blues\", annot=True, cbar=True, square=True, fmt='.2f', linewidths=0.5)\n",
    "plt.title('Correlation Heatmap of Integer Variables')\n",
    "plt.tight_layout()\n",
    "plt.show()\n",
    "\n",
    "# Print the list of int64 columns used in the correlation\n",
    "print(\"Columns used in correlation:\")\n",
    "print(list(int64_columns))"
   ]
  },
  {
   "cell_type": "code",
   "execution_count": null,
   "metadata": {},
   "outputs": [],
   "source": [
    "corrw = data1.select_dtypes(exclude=['object']).drop([target], axis=1).corrwith(data1[target])\n",
    "sns.heatmap(pd.DataFrame(corrw), cmap=\"Blues\", annot=True)"
   ]
  },
  {
   "cell_type": "markdown",
   "metadata": {},
   "source": [
    "## Ajustes basados en correlación"
   ]
  },
  {
   "cell_type": "code",
   "execution_count": null,
   "metadata": {},
   "outputs": [],
   "source": [
    "data2 = data1.drop(columns='fami_cuartoshogar')"
   ]
  },
  {
   "cell_type": "code",
   "execution_count": null,
   "metadata": {},
   "outputs": [],
   "source": [
    "data2 = data2.drop(columns='age_at_period')"
   ]
  },
  {
   "cell_type": "code",
   "execution_count": null,
   "metadata": {},
   "outputs": [],
   "source": [
    "data2.head()"
   ]
  },
  {
   "cell_type": "code",
   "execution_count": null,
   "metadata": {},
   "outputs": [],
   "source": [
    "data2.columns"
   ]
  },
  {
   "cell_type": "code",
   "execution_count": null,
   "metadata": {},
   "outputs": [],
   "source": [
    "import matplotlib.pyplot as plt\n",
    "import seaborn as sns\n",
    "\n",
    "# Prepare the data with custom labels\n",
    "area_counts = data['cole_area_ubicacion'].value_counts()\n",
    "custom_labels = ['Urbano', 'Rural']\n",
    "\n",
    "# Create a bar plot with custom colors\n",
    "plt.figure(figsize=(10, 6))\n",
    "bars = plt.bar(custom_labels, area_counts, color=['#3498db', '#e74c3c'])  # Blue for Urbano, Red for Rural\n",
    "\n",
    "plt.title('Distribución de Área de Ubicación')\n",
    "plt.xlabel('Área')\n",
    "plt.ylabel('Número de Registros')\n",
    "\n",
    "# Add value labels on top of each bar\n",
    "for bar in bars:\n",
    "    height = bar.get_height()\n",
    "    plt.text(bar.get_x() + bar.get_width()/2., height,\n",
    "             f'{height:,.0f}', \n",
    "             ha='center', va='bottom')\n",
    "\n",
    "plt.tight_layout()\n",
    "plt.show()\n",
    "\n",
    "# Print the value counts for additional context\n",
    "print(data['cole_area_ubicacion'].value_counts())"
   ]
  },
  {
   "cell_type": "code",
   "execution_count": null,
   "metadata": {},
   "outputs": [],
   "source": [
    "import matplotlib.pyplot as plt\n",
    "import seaborn as sns\n",
    "\n",
    "# Create a scatter plot\n",
    "plt.figure(figsize=(10, 6))\n",
    "plt.scatter(data.index, data['punt_ingles'], alpha=0.5)\n",
    "plt.title('Scatter Plot of Punt Ingles')\n",
    "plt.xlabel('Index')\n",
    "plt.ylabel('Punt Ingles Score')\n",
    "plt.tight_layout()\n",
    "plt.show()\n",
    "\n"
   ]
  },
  {
   "cell_type": "code",
   "execution_count": null,
   "metadata": {},
   "outputs": [],
   "source": [
    "import matplotlib.pyplot as plt\n",
    "import seaborn as sns\n",
    "\n",
    "def plot_value_proportions(column):\n",
    "    \"\"\"\n",
    "    Create a bar plot showing the proportions of unique values in a column with custom colors and labels.\n",
    "    \n",
    "    Parameters:\n",
    "    column (pd.Series): The column to analyze\n",
    "    \"\"\"\n",
    "    # Calculate value counts and proportions\n",
    "    value_counts = column.value_counts()\n",
    "    proportions = column.value_counts(normalize=True) * 100\n",
    "\n",
    "    # Create custom labels\n",
    "    custom_labels = {'N': 'No', 'S': 'Sí', 'unknown': 'Desconocido'}\n",
    "    \n",
    "    # Create the plot\n",
    "    plt.figure(figsize=(10, 6))\n",
    "    \n",
    "    # Use different colors for the bars\n",
    "    colors = ['#3498db', '#2ecc71', '#2ecc71']  # Blue and Green\n",
    "    sns.barplot(x=proportions.index.map(custom_labels), y=proportions.values, palette=colors)\n",
    "    \n",
    "    plt.title('Proporción de Colegios Bilingües')\n",
    "    plt.xlabel('Bilingüe')\n",
    "    plt.ylabel('Porcentaje')\n",
    "    plt.ylim(0, 100)\n",
    "    \n",
    "    # Add percentage labels on top of bars\n",
    "    for i, v in enumerate(proportions.values):\n",
    "        plt.text(i, v, f'{v:.1f}%', ha='center', va='bottom')\n",
    "    \n",
    "    plt.tight_layout()\n",
    "    plt.show()\n",
    "    \n",
    "   \n",
    "\n",
    "# Call the function on the col_bilingue column\n",
    "plot_value_proportions(data1['cole_bilingue'])"
   ]
  },
  {
   "cell_type": "code",
   "execution_count": null,
   "metadata": {},
   "outputs": [],
   "source": [
    "import matplotlib.pyplot as plt\n",
    "import seaborn as sns\n",
    "\n",
    "plt.figure(figsize=(10, 6))\n",
    "sns.boxplot(y='punt_lectura_critica', data=data1, color='#0B6E4F')  \n",
    "plt.title('Distribución del Puntaje en Lectura Crítica')\n",
    "plt.ylabel('Puntaje en Lectura Crítica')\n",
    "plt.tight_layout()\n",
    "plt.show()\n"
   ]
  },
  {
   "cell_type": "code",
   "execution_count": null,
   "metadata": {},
   "outputs": [],
   "source": [
    "import matplotlib.pyplot as plt\n",
    "import seaborn as sns\n",
    "\n",
    "plt.figure(figsize=(10, 6))\n",
    "sns.boxplot(y='punt_c_naturales', data=data1, color='#A2E8DD')  \n",
    "plt.title('Distribución del Puntaje en Ciencias Naturales')\n",
    "plt.ylabel('Puntaje en Ciencias Naturales')\n",
    "plt.tight_layout()\n",
    "plt.show()"
   ]
  },
  {
   "cell_type": "code",
   "execution_count": null,
   "metadata": {},
   "outputs": [],
   "source": [
    "import matplotlib.pyplot as plt\n",
    "import seaborn as sns\n",
    "\n",
    "plt.figure(figsize=(10, 6))\n",
    "sns.boxplot(y='punt_ingles', data=data1, color='#522B47')  \n",
    "plt.title('Distribución del Puntaje en Inglés')\n",
    "plt.ylabel('Puntaje en Inglés')\n",
    "plt.tight_layout()\n",
    "plt.show()\n"
   ]
  },
  {
   "cell_type": "code",
   "execution_count": null,
   "metadata": {},
   "outputs": [],
   "source": [
    "import matplotlib.pyplot as plt\n",
    "import seaborn as sns\n",
    "\n",
    "plt.figure(figsize=(10, 6))\n",
    "sns.boxplot(y='punt_matematicas', data=data1, color='#62e755')  \n",
    "plt.title('Distribución del Puntaje en Matemáticas')\n",
    "plt.ylabel('Puntaje en Matemáticas')\n",
    "plt.tight_layout()\n",
    "plt.show()\n",
    "\n"
   ]
  },
  {
   "cell_type": "code",
   "execution_count": null,
   "metadata": {},
   "outputs": [],
   "source": [
    "import matplotlib.pyplot as plt\n",
    "import seaborn as sns\n",
    "\n",
    "plt.figure(figsize=(10, 6))\n",
    "sns.boxplot(y='punt_sociales_ciudadanas', data=data1, color='#1abc9c')  \n",
    "plt.title('Distribución del Puntaje en Sociales Ciudadanas')\n",
    "plt.ylabel('Puntaje en Sociales Ciudadanas')\n",
    "plt.tight_layout()\n",
    "plt.show()\n"
   ]
  },
  {
   "cell_type": "code",
   "execution_count": null,
   "metadata": {},
   "outputs": [],
   "source": [
    "import matplotlib.pyplot as plt\n",
    "import seaborn as sns\n",
    "\n",
    "plt.figure(figsize=(10, 6))\n",
    "sns.violinplot(x='fami_tieneinternet', y='punt_global', data=data1 )\n",
    "plt.title('Distribución de Puntaje Global por Tenencia de Internet')\n",
    "plt.xlabel('Tiene Internet')\n",
    "plt.ylabel('Puntaje Global')\n",
    "plt.tight_layout()\n",
    "plt.show()\n",
    "\n",
    "# Additionally, print some summary statistics\n",
    "print(\"Summary Statistics by Internet Access:\")\n",
    "print(data1.groupby('fami_tieneinternet')['punt_global'].describe())"
   ]
  },
  {
   "cell_type": "code",
   "execution_count": null,
   "metadata": {},
   "outputs": [],
   "source": [
    "import matplotlib.pyplot as plt\n",
    "import squarify\n",
    "import numpy as np\n",
    "\n",
    "# Calculate value counts\n",
    "caracter_counts = data1['cole_caracter'].value_counts()\n",
    "\n",
    "# Create color palette\n",
    "colors = plt.cm.Pastel1(np.linspace(0, 1, len(caracter_counts)))\n",
    "\n",
    "plt.figure(figsize=(12, 8))\n",
    "squarify.plot(\n",
    "    sizes=caracter_counts.values, \n",
    "    label=[f'{index}\\n{count} ({count/len(data1)*100:.1f}%)' \n",
    "           for index, count in caracter_counts.items()], \n",
    "    color=colors, \n",
    "    alpha=0.7\n",
    ")\n",
    "plt.title('Treemap of School Character', fontsize=15)\n",
    "plt.axis('off')\n",
    "plt.tight_layout()\n",
    "plt.show()\n"
   ]
  },
  {
   "cell_type": "code",
   "execution_count": null,
   "metadata": {},
   "outputs": [],
   "source": [
    "import matplotlib.pyplot as plt\n",
    "import squarify\n",
    "import numpy as np\n",
    "\n",
    "# Calculate value counts\n",
    "caracter_counts = data1['cole_mcpio_ubicacion'].value_counts()\n",
    "\n",
    "# Create color palette\n",
    "colors = plt.cm.Pastel1(np.linspace(0, 1, len(caracter_counts)))\n",
    "\n",
    "plt.figure(figsize=(12, 8))\n",
    "squarify.plot(\n",
    "    sizes=caracter_counts.values, \n",
    "    label=[f'{index}\\n{count} ({count/len(data1)*100:.1f}%)' \n",
    "           for index, count in caracter_counts.items()], \n",
    "    color=colors, \n",
    "    alpha=0.7\n",
    ")\n",
    "plt.title('Treemap of School Character', fontsize=15)\n",
    "plt.axis('off')\n",
    "plt.tight_layout()\n",
    "plt.show()"
   ]
  },
  {
   "cell_type": "code",
   "execution_count": null,
   "metadata": {},
   "outputs": [],
   "source": [
    "import matplotlib.pyplot as plt\n",
    "import seaborn as sns\n",
    "\n",
    "plt.figure(figsize=(10, 6))\n",
    "sns.violinplot(x='periodo', y='punt_global', data=data1, palette=['#16697A', '#BBA0CA','#82C0CC', '#CA054D', '#FFA62B'])\n",
    "plt.title('Distribución de Puntaje en Sociales Ciudadanas por Área de Ubicación')\n",
    "plt.xlabel('Área de Ubicación')\n",
    "plt.ylabel('Puntaje en Sociales Ciudadanas')\n",
    "plt.tight_layout()\n",
    "plt.show()\n",
    "\n"
   ]
  }
 ],
 "metadata": {
  "kernelspec": {
   "display_name": "Python 3",
   "language": "python",
   "name": "python3"
  },
  "language_info": {
   "codemirror_mode": {
    "name": "ipython",
    "version": 3
   },
   "file_extension": ".py",
   "mimetype": "text/x-python",
   "name": "python",
   "nbconvert_exporter": "python",
   "pygments_lexer": "ipython3",
   "version": "3.11.9"
  }
 },
 "nbformat": 4,
 "nbformat_minor": 2
}
