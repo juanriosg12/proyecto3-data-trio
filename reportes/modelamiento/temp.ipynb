{
 "cells": [
  {
   "cell_type": "code",
   "execution_count": 7,
   "metadata": {},
   "outputs": [
    {
     "name": "stderr",
     "output_type": "stream",
     "text": [
      "2024-12-03 20:09:12.400203: I tensorflow/core/platform/cpu_feature_guard.cc:210] This TensorFlow binary is optimized to use available CPU instructions in performance-critical operations.\n",
      "To enable the following instructions: AVX2 AVX512F AVX512_VNNI FMA, in other operations, rebuild TensorFlow with the appropriate compiler flags.\n"
     ]
    }
   ],
   "source": [
    "import tensorflow as tf\n",
    "from tensorflow.keras.models import load_model, save_model\n",
    "from process_inputs import code_features\n",
    "import pandas as pd\n",
    "import mlflow.keras"
   ]
  },
  {
   "cell_type": "code",
   "execution_count": 13,
   "metadata": {},
   "outputs": [
    {
     "name": "stdout",
     "output_type": "stream",
     "text": [
      "TensorFlow version: 2.16.2\n",
      "Keras version: 3.7.0\n"
     ]
    }
   ],
   "source": [
    "print(\"TensorFlow version:\", tf.__version__)\n",
    "print(\"Keras version:\", tf.keras.__version__)"
   ]
  },
  {
   "cell_type": "code",
   "execution_count": 2,
   "metadata": {},
   "outputs": [],
   "source": [
    "# Specify the path to the model in MLflow\n",
    "model_uri = \"runs:/d33d802e99a54669ac67cb328692a07e/keras_model\"  # Replace with the actual run ID\n",
    "\n",
    "# Load the model\n",
    "model = mlflow.keras.load_model(model_uri)\n",
    "\n"
   ]
  },
  {
   "cell_type": "code",
   "execution_count": 3,
   "metadata": {},
   "outputs": [
    {
     "data": {
      "text/plain": [
       "Index(['periodo', 'estu_tipodocumento', 'cole_area_ubicacion', 'cole_bilingue',\n",
       "       'cole_caracter', 'cole_genero', 'cole_jornada', 'cole_mcpio_ubicacion',\n",
       "       'cole_naturaleza', 'cole_sede_principal', 'estu_fechanacimiento',\n",
       "       'estu_genero', 'fami_cuartoshogar', 'fami_educacionmadre',\n",
       "       'fami_educacionpadre', 'fami_estratovivienda', 'fami_personashogar',\n",
       "       'fami_tieneautomovil', 'fami_tienecomputador', 'fami_tieneinternet',\n",
       "       'fami_tienelavadora', 'desemp_ingles', 'punt_ingles',\n",
       "       'punt_matematicas', 'punt_sociales_ciudadanas', 'punt_c_naturales',\n",
       "       'punt_lectura_critica', 'punt_global'],\n",
       "      dtype='object')"
      ]
     },
     "execution_count": 3,
     "metadata": {},
     "output_type": "execute_result"
    }
   ],
   "source": [
    "df= pd.read_csv(\"../ingeniera_de_datos/clean_saber11.csv\")\n",
    "df.drop(columns=\"Unnamed: 0\",inplace=True)\n",
    "df.columns"
   ]
  },
  {
   "cell_type": "code",
   "execution_count": 4,
   "metadata": {},
   "outputs": [],
   "source": [
    "df_ds= code_features(df)"
   ]
  },
  {
   "cell_type": "code",
   "execution_count": 5,
   "metadata": {},
   "outputs": [
    {
     "name": "stdout",
     "output_type": "stream",
     "text": [
      "\u001b[1m2604/2604\u001b[0m \u001b[32m━━━━━━━━━━━━━━━━━━━━\u001b[0m\u001b[37m\u001b[0m \u001b[1m9s\u001b[0m 3ms/step\n"
     ]
    },
    {
     "data": {
      "text/plain": [
       "array([[259.23325],\n",
       "       [277.22208],\n",
       "       [281.16745],\n",
       "       ...,\n",
       "       [254.6669 ],\n",
       "       [251.36206],\n",
       "       [236.75569]], dtype=float32)"
      ]
     },
     "execution_count": 5,
     "metadata": {},
     "output_type": "execute_result"
    }
   ],
   "source": [
    "model.predict(df_ds)"
   ]
  },
  {
   "cell_type": "code",
   "execution_count": 6,
   "metadata": {},
   "outputs": [],
   "source": [
    "save_model(model,\"models/final_model.keras\")"
   ]
  }
 ],
 "metadata": {
  "kernelspec": {
   "display_name": "Python 3",
   "language": "python",
   "name": "python3"
  },
  "language_info": {
   "codemirror_mode": {
    "name": "ipython",
    "version": 3
   },
   "file_extension": ".py",
   "mimetype": "text/x-python",
   "name": "python",
   "nbconvert_exporter": "python",
   "pygments_lexer": "ipython3",
   "version": "3.11.9"
  }
 },
 "nbformat": 4,
 "nbformat_minor": 2
}
