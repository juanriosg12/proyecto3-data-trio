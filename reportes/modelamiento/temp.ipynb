{
 "cells": [
  {
   "cell_type": "code",
   "execution_count": 5,
   "metadata": {},
   "outputs": [],
   "source": [
    "import tensorflow as tf\n",
    "from tensorflow.keras.models import load_model\n",
    "from process_inputs import code_features\n",
    "import pandas as pd"
   ]
  },
  {
   "cell_type": "code",
   "execution_count": 3,
   "metadata": {},
   "outputs": [],
   "source": [
    "model = load_model('models/my_model.keras')"
   ]
  },
  {
   "cell_type": "code",
   "execution_count": 6,
   "metadata": {},
   "outputs": [
    {
     "data": {
      "text/plain": [
       "Index(['periodo', 'estu_tipodocumento', 'cole_area_ubicacion', 'cole_bilingue',\n",
       "       'cole_caracter', 'cole_genero', 'cole_jornada', 'cole_mcpio_ubicacion',\n",
       "       'cole_naturaleza', 'cole_sede_principal', 'estu_genero',\n",
       "       'fami_cuartoshogar', 'fami_educacionmadre', 'fami_educacionpadre',\n",
       "       'fami_estratovivienda', 'fami_personashogar', 'fami_tieneautomovil',\n",
       "       'fami_tienecomputador', 'fami_tieneinternet', 'fami_tienelavadora',\n",
       "       'desemp_ingles', 'punt_ingles', 'punt_matematicas',\n",
       "       'punt_sociales_ciudadanas', 'punt_c_naturales', 'punt_lectura_critica',\n",
       "       'punt_global'],\n",
       "      dtype='object')"
      ]
     },
     "execution_count": 6,
     "metadata": {},
     "output_type": "execute_result"
    }
   ],
   "source": [
    "df= pd.read_csv(\"../ingeniera_de_datos/clean_saber11.csv\")\n",
    "df.drop(columns=\"Unnamed: 0\",inplace=True)\n",
    "df.columns"
   ]
  },
  {
   "cell_type": "code",
   "execution_count": 7,
   "metadata": {},
   "outputs": [],
   "source": [
    "df_ds= code_features(df)"
   ]
  },
  {
   "cell_type": "code",
   "execution_count": 8,
   "metadata": {},
   "outputs": [
    {
     "name": "stdout",
     "output_type": "stream",
     "text": [
      "\u001b[1m2604/2604\u001b[0m \u001b[32m━━━━━━━━━━━━━━━━━━━━\u001b[0m\u001b[37m\u001b[0m \u001b[1m9s\u001b[0m 3ms/step\n"
     ]
    },
    {
     "data": {
      "text/plain": [
       "array([[257.59738],\n",
       "       [261.54172],\n",
       "       [213.92767],\n",
       "       ...,\n",
       "       [296.48013],\n",
       "       [242.18832],\n",
       "       [207.02826]], dtype=float32)"
      ]
     },
     "execution_count": 8,
     "metadata": {},
     "output_type": "execute_result"
    }
   ],
   "source": [
    "model.predict(df_ds)"
   ]
  }
 ],
 "metadata": {
  "kernelspec": {
   "display_name": "Python 3",
   "language": "python",
   "name": "python3"
  },
  "language_info": {
   "codemirror_mode": {
    "name": "ipython",
    "version": 3
   },
   "file_extension": ".py",
   "mimetype": "text/x-python",
   "name": "python",
   "nbconvert_exporter": "python",
   "pygments_lexer": "ipython3",
   "version": "3.11.9"
  }
 },
 "nbformat": 4,
 "nbformat_minor": 2
}
